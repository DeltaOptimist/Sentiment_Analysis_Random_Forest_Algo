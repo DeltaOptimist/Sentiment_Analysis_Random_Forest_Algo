{
  "nbformat": 4,
  "nbformat_minor": 0,
  "metadata": {
    "colab": {
      "name": "Sentiment_Analysis_Random_Forest.ipynb",
      "provenance": []
    },
    "kernelspec": {
      "name": "python3",
      "display_name": "Python 3"
    },
    "language_info": {
      "name": "python"
    }
  },
  "cells": [
    {
      "cell_type": "markdown",
      "metadata": {
        "id": "ooqaR-k-PBWX"
      },
      "source": [
        "## Problem Definition"
      ]
    },
    {
      "cell_type": "markdown",
      "metadata": {
        "id": "bVOprMxsPD_X"
      },
      "source": [
        "Given tweets about six US airlines, the task is to predict whether a tweet contains positive, negative, or neutral sentiment about the airline. This is a typical supervised learning task where given a text string, we have to categorize the text string into predefined categories."
      ]
    },
    {
      "cell_type": "markdown",
      "metadata": {
        "id": "L5pIXfNEPK2P"
      },
      "source": [
        "##Proposed Solution"
      ]
    },
    {
      "cell_type": "markdown",
      "metadata": {
        "id": "ph6VF_l4PPww"
      },
      "source": [
        "To solve this problem, we will follow the typical machine learning pipeline. \n",
        "\n",
        "We will first import the required libraries and the dataset. \n",
        "\n",
        "We will then do exploratory data analysis to see if we can find any trends in the dataset. \n",
        "\n",
        "Next, we will perform text preprocessing to convert textual data to numeric data that can be used by a machine learning algorithm. \n",
        "\n",
        "Finally, we will use machine learning algorithms to train and test our sentiment analysis models."
      ]
    },
    {
      "cell_type": "code",
      "metadata": {
        "id": "cpp6hR-iOnHW"
      },
      "source": [
        "import numpy as np \n",
        "import pandas as pd \n",
        "import re\n",
        "import nltk \n",
        "import matplotlib.pyplot as plt\n",
        "%matplotlib inline"
      ],
      "execution_count": 1,
      "outputs": []
    },
    {
      "cell_type": "code",
      "metadata": {
        "colab": {
          "base_uri": "https://localhost:8080/"
        },
        "id": "4SC3ICnQWgHi",
        "outputId": "cdf2ccf4-01ce-4023-d8e3-ea4d32b9ee47"
      },
      "source": [
        "import nltk\n",
        "nltk.download('stopwords')"
      ],
      "execution_count": 13,
      "outputs": [
        {
          "output_type": "stream",
          "name": "stdout",
          "text": [
            "[nltk_data] Downloading package stopwords to /root/nltk_data...\n",
            "[nltk_data]   Unzipping corpora/stopwords.zip.\n"
          ]
        },
        {
          "output_type": "execute_result",
          "data": {
            "text/plain": [
              "True"
            ]
          },
          "metadata": {},
          "execution_count": 13
        }
      ]
    },
    {
      "cell_type": "code",
      "metadata": {
        "id": "5qXyWRoKPZBE"
      },
      "source": [
        "data_source_url = \"https://raw.githubusercontent.com/kolaveridi/kaggle-Twitter-US-Airline-Sentiment-/master/Tweets.csv\"\n",
        "\n",
        "airline_tweets = pd.read_csv(data_source_url)"
      ],
      "execution_count": 2,
      "outputs": []
    },
    {
      "cell_type": "code",
      "metadata": {
        "colab": {
          "base_uri": "https://localhost:8080/",
          "height": 452
        },
        "id": "6WGf-IJtPpJZ",
        "outputId": "2600de1a-2be6-4df6-fa7a-70009b8c6e48"
      },
      "source": [
        "airline_tweets.head()"
      ],
      "execution_count": 3,
      "outputs": [
        {
          "output_type": "execute_result",
          "data": {
            "text/html": [
              "<div>\n",
              "<style scoped>\n",
              "    .dataframe tbody tr th:only-of-type {\n",
              "        vertical-align: middle;\n",
              "    }\n",
              "\n",
              "    .dataframe tbody tr th {\n",
              "        vertical-align: top;\n",
              "    }\n",
              "\n",
              "    .dataframe thead th {\n",
              "        text-align: right;\n",
              "    }\n",
              "</style>\n",
              "<table border=\"1\" class=\"dataframe\">\n",
              "  <thead>\n",
              "    <tr style=\"text-align: right;\">\n",
              "      <th></th>\n",
              "      <th>tweet_id</th>\n",
              "      <th>airline_sentiment</th>\n",
              "      <th>airline_sentiment_confidence</th>\n",
              "      <th>negativereason</th>\n",
              "      <th>negativereason_confidence</th>\n",
              "      <th>airline</th>\n",
              "      <th>airline_sentiment_gold</th>\n",
              "      <th>name</th>\n",
              "      <th>negativereason_gold</th>\n",
              "      <th>retweet_count</th>\n",
              "      <th>text</th>\n",
              "      <th>tweet_coord</th>\n",
              "      <th>tweet_created</th>\n",
              "      <th>tweet_location</th>\n",
              "      <th>user_timezone</th>\n",
              "    </tr>\n",
              "  </thead>\n",
              "  <tbody>\n",
              "    <tr>\n",
              "      <th>0</th>\n",
              "      <td>570306133677760513</td>\n",
              "      <td>neutral</td>\n",
              "      <td>1.0000</td>\n",
              "      <td>NaN</td>\n",
              "      <td>NaN</td>\n",
              "      <td>Virgin America</td>\n",
              "      <td>NaN</td>\n",
              "      <td>cairdin</td>\n",
              "      <td>NaN</td>\n",
              "      <td>0</td>\n",
              "      <td>@VirginAmerica What @dhepburn said.</td>\n",
              "      <td>NaN</td>\n",
              "      <td>2015-02-24 11:35:52 -0800</td>\n",
              "      <td>NaN</td>\n",
              "      <td>Eastern Time (US &amp; Canada)</td>\n",
              "    </tr>\n",
              "    <tr>\n",
              "      <th>1</th>\n",
              "      <td>570301130888122368</td>\n",
              "      <td>positive</td>\n",
              "      <td>0.3486</td>\n",
              "      <td>NaN</td>\n",
              "      <td>0.0000</td>\n",
              "      <td>Virgin America</td>\n",
              "      <td>NaN</td>\n",
              "      <td>jnardino</td>\n",
              "      <td>NaN</td>\n",
              "      <td>0</td>\n",
              "      <td>@VirginAmerica plus you've added commercials t...</td>\n",
              "      <td>NaN</td>\n",
              "      <td>2015-02-24 11:15:59 -0800</td>\n",
              "      <td>NaN</td>\n",
              "      <td>Pacific Time (US &amp; Canada)</td>\n",
              "    </tr>\n",
              "    <tr>\n",
              "      <th>2</th>\n",
              "      <td>570301083672813571</td>\n",
              "      <td>neutral</td>\n",
              "      <td>0.6837</td>\n",
              "      <td>NaN</td>\n",
              "      <td>NaN</td>\n",
              "      <td>Virgin America</td>\n",
              "      <td>NaN</td>\n",
              "      <td>yvonnalynn</td>\n",
              "      <td>NaN</td>\n",
              "      <td>0</td>\n",
              "      <td>@VirginAmerica I didn't today... Must mean I n...</td>\n",
              "      <td>NaN</td>\n",
              "      <td>2015-02-24 11:15:48 -0800</td>\n",
              "      <td>Lets Play</td>\n",
              "      <td>Central Time (US &amp; Canada)</td>\n",
              "    </tr>\n",
              "    <tr>\n",
              "      <th>3</th>\n",
              "      <td>570301031407624196</td>\n",
              "      <td>negative</td>\n",
              "      <td>1.0000</td>\n",
              "      <td>Bad Flight</td>\n",
              "      <td>0.7033</td>\n",
              "      <td>Virgin America</td>\n",
              "      <td>NaN</td>\n",
              "      <td>jnardino</td>\n",
              "      <td>NaN</td>\n",
              "      <td>0</td>\n",
              "      <td>@VirginAmerica it's really aggressive to blast...</td>\n",
              "      <td>NaN</td>\n",
              "      <td>2015-02-24 11:15:36 -0800</td>\n",
              "      <td>NaN</td>\n",
              "      <td>Pacific Time (US &amp; Canada)</td>\n",
              "    </tr>\n",
              "    <tr>\n",
              "      <th>4</th>\n",
              "      <td>570300817074462722</td>\n",
              "      <td>negative</td>\n",
              "      <td>1.0000</td>\n",
              "      <td>Can't Tell</td>\n",
              "      <td>1.0000</td>\n",
              "      <td>Virgin America</td>\n",
              "      <td>NaN</td>\n",
              "      <td>jnardino</td>\n",
              "      <td>NaN</td>\n",
              "      <td>0</td>\n",
              "      <td>@VirginAmerica and it's a really big bad thing...</td>\n",
              "      <td>NaN</td>\n",
              "      <td>2015-02-24 11:14:45 -0800</td>\n",
              "      <td>NaN</td>\n",
              "      <td>Pacific Time (US &amp; Canada)</td>\n",
              "    </tr>\n",
              "  </tbody>\n",
              "</table>\n",
              "</div>"
            ],
            "text/plain": [
              "             tweet_id  ...               user_timezone\n",
              "0  570306133677760513  ...  Eastern Time (US & Canada)\n",
              "1  570301130888122368  ...  Pacific Time (US & Canada)\n",
              "2  570301083672813571  ...  Central Time (US & Canada)\n",
              "3  570301031407624196  ...  Pacific Time (US & Canada)\n",
              "4  570300817074462722  ...  Pacific Time (US & Canada)\n",
              "\n",
              "[5 rows x 15 columns]"
            ]
          },
          "metadata": {},
          "execution_count": 3
        }
      ]
    },
    {
      "cell_type": "markdown",
      "metadata": {
        "id": "7m2CGeOgPvlP"
      },
      "source": [
        "Data Analysis"
      ]
    },
    {
      "cell_type": "markdown",
      "metadata": {
        "id": "GnOCwhPbPzRH"
      },
      "source": [
        "Let's explore the dataset a bit to see if we can find any trends. But before that, we will change the default plot size to have a better view of the plots."
      ]
    },
    {
      "cell_type": "code",
      "metadata": {
        "colab": {
          "base_uri": "https://localhost:8080/"
        },
        "id": "8dZxtRVbPs5O",
        "outputId": "03eb0d9c-cc70-4c3b-8fa4-ef6015a11644"
      },
      "source": [
        "plot_size = plt.rcParams[\"figure.figsize\"] \n",
        "print(plot_size[0]) \n",
        "print(plot_size[1])\n",
        "\n",
        "plot_size[0] = 8\n",
        "plot_size[1] = 6\n",
        "plt.rcParams[\"figure.figsize\"] = plot_size "
      ],
      "execution_count": 4,
      "outputs": [
        {
          "output_type": "stream",
          "name": "stdout",
          "text": [
            "6.0\n",
            "4.0\n"
          ]
        }
      ]
    },
    {
      "cell_type": "markdown",
      "metadata": {
        "id": "2q1wIs3WP9UA"
      },
      "source": [
        "Let's first see the number of tweets for each airline. We will plot a pie chart for that:"
      ]
    },
    {
      "cell_type": "code",
      "metadata": {
        "colab": {
          "base_uri": "https://localhost:8080/",
          "height": 375
        },
        "id": "jAHjZ0GQP2Fl",
        "outputId": "6fc32824-1271-4ee4-e7e8-219369f9ca30"
      },
      "source": [
        "airline_tweets.airline.value_counts().plot(kind='pie', autopct='%1.0f%%')"
      ],
      "execution_count": 5,
      "outputs": [
        {
          "output_type": "execute_result",
          "data": {
            "text/plain": [
              "<matplotlib.axes._subplots.AxesSubplot at 0x7f90c8e84250>"
            ]
          },
          "metadata": {},
          "execution_count": 5
        },
        {
          "output_type": "display_data",
          "data": {
            "image/png": "[encoded data removed]",
            "text/plain": [
              "<Figure size 576x432 with 1 Axes>"
            ]
          },
          "metadata": {}
        }
      ]
    },
    {
      "cell_type": "markdown",
      "metadata": {
        "id": "vRIVaH7ZQBuA"
      },
      "source": [
        "In the output, you can see the percentage of public tweets for each airline.\n",
        "\n",
        " United Airline has the highest number of tweets \n",
        " \n",
        " i.e. 26%, followed by US Airways (20%)."
      ]
    },
    {
      "cell_type": "markdown",
      "metadata": {
        "id": "oaVIha_3QUkZ"
      },
      "source": [
        "Let's now see the distribution of sentiments across all the tweets."
      ]
    },
    {
      "cell_type": "code",
      "metadata": {
        "colab": {
          "base_uri": "https://localhost:8080/",
          "height": 375
        },
        "id": "CRg5tndlP-RV",
        "outputId": "7b71f671-c593-47df-e914-ad251002169c"
      },
      "source": [
        "airline_tweets.airline_sentiment.value_counts().plot(kind='pie', autopct='%1.0f%%', colors=[\"red\", \"yellow\", \"green\"])"
      ],
      "execution_count": 6,
      "outputs": [
        {
          "output_type": "execute_result",
          "data": {
            "text/plain": [
              "<matplotlib.axes._subplots.AxesSubplot at 0x7f90c8dd4fd0>"
            ]
          },
          "metadata": {},
          "execution_count": 6
        },
        {
          "output_type": "display_data",
          "data": {
            "image/png": "[encoded data removed]",
            "text/plain": [
              "<Figure size 576x432 with 1 Axes>"
            ]
          },
          "metadata": {}
        }
      ]
    },
    {
      "cell_type": "markdown",
      "metadata": {
        "id": "h544_gQrQez7"
      },
      "source": [
        "From the output, you can see that the majority of the tweets are negative (63%), followed by neutral tweets (21%), and then the positive tweets (16%)."
      ]
    },
    {
      "cell_type": "markdown",
      "metadata": {
        "id": "DmVVndfcQ7uL"
      },
      "source": [
        "Next, let's see the distribution of sentiment for each individual airline,"
      ]
    },
    {
      "cell_type": "code",
      "metadata": {
        "colab": {
          "base_uri": "https://localhost:8080/",
          "height": 470
        },
        "id": "lxXNxbulQbdI",
        "outputId": "ff937f4f-d8d0-4d1c-b389-3a597e7f37ef"
      },
      "source": [
        "airline_sentiment = airline_tweets.groupby(['airline', 'airline_sentiment']).airline_sentiment.count().unstack()\n",
        "airline_sentiment.plot(kind='bar')"
      ],
      "execution_count": 7,
      "outputs": [
        {
          "output_type": "execute_result",
          "data": {
            "text/plain": [
              "<matplotlib.axes._subplots.AxesSubplot at 0x7f90c88fa490>"
            ]
          },
          "metadata": {},
          "execution_count": 7
        },
        {
          "output_type": "display_data",
          "data": {
            "image/png": "[encoded data removed]",
            "text/plain": [
              "<Figure size 576x432 with 1 Axes>"
            ]
          },
          "metadata": {
            "needs_background": "light"
          }
        }
      ]
    },
    {
      "cell_type": "markdown",
      "metadata": {
        "id": "E-KGNRa8RSp7"
      },
      "source": [
        "It is evident from the output that for almost all the airlines, the majority of the tweets are negative, followed by neutral and positive tweets.\n",
        "\n",
        "Virgin America is probably the only airline where the ratio of the three sentiments is somewhat similar."
      ]
    },
    {
      "cell_type": "markdown",
      "metadata": {
        "id": "HEJ7vjoURcy2"
      },
      "source": [
        "Finally, let's use the Seaborn library to view the average confidence level for the tweets belonging to three sentiment categories."
      ]
    },
    {
      "cell_type": "code",
      "metadata": {
        "colab": {
          "base_uri": "https://localhost:8080/",
          "height": 407
        },
        "id": "MTXykUMsRFG6",
        "outputId": "70657811-f02f-4ad3-c449-f92ad0f1f82e"
      },
      "source": [
        "import seaborn as sns\n",
        "\n",
        "sns.barplot(x='airline_sentiment', y='airline_sentiment_confidence' , data=airline_tweets)\n"
      ],
      "execution_count": 8,
      "outputs": [
        {
          "output_type": "execute_result",
          "data": {
            "text/plain": [
              "<matplotlib.axes._subplots.AxesSubplot at 0x7f90c878c490>"
            ]
          },
          "metadata": {},
          "execution_count": 8
        },
        {
          "output_type": "display_data",
          "data": {
            "image/png": "[encoded data removed]",
            "text/plain": [
              "<Figure size 576x432 with 1 Axes>"
            ]
          },
          "metadata": {
            "needs_background": "light"
          }
        }
      ]
    },
    {
      "cell_type": "markdown",
      "metadata": {
        "id": "Y45tJy36RtGF"
      },
      "source": [
        "From the output, you can see that the confidence level for negative tweets is higher compared to positive and neutral tweets."
      ]
    },
    {
      "cell_type": "markdown",
      "metadata": {
        "id": "IijIu7XMRxMF"
      },
      "source": [
        "Enough of the exploratory data analysis, our next step is to perform some preprocessing on the data and then convert the numeric data into text data as shown below."
      ]
    },
    {
      "cell_type": "markdown",
      "metadata": {
        "id": "sMILnFjrSa0e"
      },
      "source": [
        "Data Cleaning\n",
        "\n",
        "Tweets contain many slang words and punctuation marks. \n",
        "\n",
        "We need to clean our tweets before they can be used for training the machine learning model. \n",
        "\n",
        "However, before cleaning the tweets, let's divide our dataset into feature and label sets."
      ]
    },
    {
      "cell_type": "markdown",
      "metadata": {
        "id": "gp8W4TO4SqdG"
      },
      "source": [
        "Our feature set will consist of tweets only. If we look at our dataset, the 11th column contains the tweet text. \n",
        "\n",
        "Note that the index of the column will be 10 since pandas columns follow zero-based indexing scheme where the first column is called 0th column. \n",
        "\n",
        "Our label set will consist of the sentiment of the tweet that we have to predict. \n",
        "\n",
        "The sentiment of the tweet is in the second column (index 1). \n",
        "\n",
        "To create a feature and a label set, we can use the iloc method off the pandas data frame."
      ]
    },
    {
      "cell_type": "code",
      "metadata": {
        "id": "shfybykzRf1G"
      },
      "source": [
        "features = airline_tweets.iloc[:, 10].values\n",
        "labels = airline_tweets.iloc[:, 1].values"
      ],
      "execution_count": 9,
      "outputs": []
    },
    {
      "cell_type": "markdown",
      "metadata": {
        "id": "6Qs6QVluTM06"
      },
      "source": [
        "Once we divide the data into features and training set, we can preprocess data in order to clean it. \n",
        "\n",
        "To do so, we will use regular expressions. "
      ]
    },
    {
      "cell_type": "code",
      "metadata": {
        "id": "MfbXQy_DS0jh"
      },
      "source": [
        "processed_features = []\n",
        "\n",
        "for sentence in range(0, len(features)):\n",
        "    # Remove all the special characters\n",
        "    processed_feature = re.sub(r'\\W', ' ', str(features[sentence]))\n",
        "\n",
        "    # remove all single characters\n",
        "    processed_feature= re.sub(r'\\s+[a-zA-Z]\\s+', ' ', processed_feature)\n",
        "\n",
        "    # Remove single characters from the start\n",
        "    processed_feature = re.sub(r'\\^[a-zA-Z]\\s+', ' ', processed_feature) \n",
        "\n",
        "    # Substituting multiple spaces with single space\n",
        "    processed_feature = re.sub(r'\\s+', ' ', processed_feature, flags=re.I)\n",
        "\n",
        "    # Removing prefixed 'b'\n",
        "    processed_feature = re.sub(r'^b\\s+', '', processed_feature)\n",
        "\n",
        "    # Converting to Lowercase\n",
        "    processed_feature = processed_feature.lower()\n",
        "\n",
        "    processed_features.append(processed_feature)"
      ],
      "execution_count": 10,
      "outputs": []
    },
    {
      "cell_type": "markdown",
      "metadata": {
        "id": "0s8NrLphTTQX"
      },
      "source": [
        "In the script above, we start by removing all the special characters from the tweets. The regular expression re.sub(r'\\W', ' ', str(features[sentence])) does that.\n",
        "\n",
        "Next, we remove all the single characters left as a result of removing the special character using the re.sub(r'\\s+[a-zA-Z]\\s+', ' ', processed_feature) regular expression. For instance, if we remove special character ' from Jack's and replace it with space, we are left with Jack s. Here s has no meaning, so we remove it by replacing all single characters with a space.\n",
        "\n",
        "However, if we replace all single characters with space, multiple spaces are created. Therefore, we replace all the multiple spaces with single spaces using re.sub(r'\\s+', ' ', processed_feature, flags=re.I) regex. Furthermore, if your text string is in bytes format a character b is appended with the string. The above script removes that using the regex re.sub(r'^b\\s+', '', processed_feature).\n",
        "\n",
        "Finally, the text is converted into lowercase using the lower() function."
      ]
    },
    {
      "cell_type": "markdown",
      "metadata": {
        "id": "Z0BFwKVnU12p"
      },
      "source": [
        "##Representing Text in Numeric Form"
      ]
    },
    {
      "cell_type": "markdown",
      "metadata": {
        "id": "9U1yz20WU3JI"
      },
      "source": [
        "Statistical algorithms use mathematics to train machine learning models. However, mathematics only work with numbers. \n",
        "\n",
        "To make statistical algorithms work with text, we first have to convert text to numbers. \n",
        "\n",
        "To do so, three main approaches exist i.e. Bag of Words, TF-IDF and Word2Vec. \n",
        " we will discuss the bag of words and TF-IDF scheme."
      ]
    },
    {
      "cell_type": "markdown",
      "metadata": {
        "id": "-PLp4FZmVBag"
      },
      "source": [
        "##Bag of Words\n",
        "\n",
        "Bag of words scheme is the simplest way of converting text to numbers.\n",
        "\n",
        "For instance, you have three documents:\n",
        "\n",
        "Doc1 = \"I like to play football\"\n",
        "\n",
        "Doc2 = \"It is a good game\"\n",
        "\n",
        "Doc3 = \"I prefer football over rugby\"\n",
        "\n",
        "In the bag of words approach the first step is to create a vocabulary of all the unique words. \n",
        "\n",
        "For the above three documents, our vocabulary will be:"
      ]
    },
    {
      "cell_type": "markdown",
      "metadata": {
        "id": "2FxqdF35VOIf"
      },
      "source": [
        "Vocab = [I, like, to, play, football, it, is, a, good, game, prefer, over, rugby]"
      ]
    },
    {
      "cell_type": "markdown",
      "metadata": {
        "id": "NsOADAAcVPn3"
      },
      "source": [
        "The next step is to convert each document into a feature vector using the vocabulary. \n",
        "\n",
        "The length of each feature vector is equal to the length of the vocabulary. \n",
        "\n",
        "The frequency of the word in the document will replace the actual word in the vocabulary. \n",
        "\n",
        "If a word in the vocabulary is not found in the corresponding document, the document feature vector will have zero in that place. \n",
        "\n",
        "For instance, for Doc1, the feature vector will look like this:"
      ]
    },
    {
      "cell_type": "markdown",
      "metadata": {
        "id": "_x7Ch6F_VOCU"
      },
      "source": [
        "[1, 1, 1, 1, 1, 0, 0, 0, 0, 0, 0, 0, 0]"
      ]
    },
    {
      "cell_type": "markdown",
      "metadata": {
        "id": "Mz6A7Z6DVgGp"
      },
      "source": [
        "##TF-IDF"
      ]
    },
    {
      "cell_type": "markdown",
      "metadata": {
        "id": "hTtgbCkjVmjZ"
      },
      "source": [
        "In the bag of words approach, each word has the same weight. \n",
        "\n",
        "The idea behind the TF-IDF approach is that the words that occur less in all the documents and more in individual document contribute more towards classification."
      ]
    },
    {
      "cell_type": "markdown",
      "metadata": {
        "id": "sDvsTL8TWJ6B"
      },
      "source": [
        "TF-IDF is a combination of two terms. Term frequency and Inverse Document frequency. They can be calculated as:"
      ]
    },
    {
      "cell_type": "markdown",
      "metadata": {
        "id": "vMoAZnuuWMjC"
      },
      "source": [
        "TF  = (Frequency of a word in the document)/(Total words in the document)\n",
        "\n",
        "IDF = Log((Total number of docs)/(Number of docs containing the word))"
      ]
    },
    {
      "cell_type": "markdown",
      "metadata": {
        "id": "KaEdLURWWSfZ"
      },
      "source": [
        "TF-IDF using the Scikit-Learn Library"
      ]
    },
    {
      "cell_type": "code",
      "metadata": {
        "id": "c5Z1ii5DVH8e"
      },
      "source": [
        "from nltk.corpus import stopwords\n",
        "from sklearn.feature_extraction.text import TfidfVectorizer\n",
        "\n",
        "vectorizer = TfidfVectorizer (max_features=2500, min_df=7, max_df=0.8, stop_words=stopwords.words('english'))\n",
        "processed_features = vectorizer.fit_transform(processed_features).toarray()"
      ],
      "execution_count": 14,
      "outputs": []
    },
    {
      "cell_type": "markdown",
      "metadata": {
        "id": "79hs9nmjWzzq"
      },
      "source": [
        "In the code above, we define that the max_features should be 2500, which means that it only uses the 2500 most frequently occurring words to create a bag of words feature vector. \n",
        "\n",
        "Words that occur less frequently are not very useful for classification.\n",
        "\n",
        "Similarly, max_df specifies that only use those words that occur in a maximum of 80% of the documents. Words that occur in all documents are too common and are not very useful for classification. \n",
        "\n",
        "Similarly, min-df is set to 7 which shows that include words that occur in at least 7 documents."
      ]
    },
    {
      "cell_type": "markdown",
      "metadata": {
        "id": "lQoHJNrPXDlB"
      },
      "source": [
        "Dividing Data into Training and Test Sets"
      ]
    },
    {
      "cell_type": "code",
      "metadata": {
        "id": "AtKSlfJVWZ3T"
      },
      "source": [
        "from sklearn.model_selection import train_test_split\n",
        "\n",
        "X_train, X_test, y_train, y_test = train_test_split(processed_features, labels, test_size=0.2, random_state=0)"
      ],
      "execution_count": 15,
      "outputs": []
    },
    {
      "cell_type": "markdown",
      "metadata": {
        "id": "kiU_L1QWXOUS"
      },
      "source": [
        "Training the Model"
      ]
    },
    {
      "cell_type": "code",
      "metadata": {
        "colab": {
          "base_uri": "https://localhost:8080/"
        },
        "id": "QtQq9QngXI-H",
        "outputId": "0d506db3-b89c-449b-bd68-bd0d8be2a9d7"
      },
      "source": [
        "from sklearn.ensemble import RandomForestClassifier\n",
        "\n",
        "text_classifier = RandomForestClassifier(n_estimators=200, random_state=0)\n",
        "text_classifier.fit(X_train, y_train)"
      ],
      "execution_count": 16,
      "outputs": [
        {
          "output_type": "execute_result",
          "data": {
            "text/plain": [
              "RandomForestClassifier(bootstrap=True, ccp_alpha=0.0, class_weight=None,\n",
              "                       criterion='gini', max_depth=None, max_features='auto',\n",
              "                       max_leaf_nodes=None, max_samples=None,\n",
              "                       min_impurity_decrease=0.0, min_impurity_split=None,\n",
              "                       min_samples_leaf=1, min_samples_split=2,\n",
              "                       min_weight_fraction_leaf=0.0, n_estimators=200,\n",
              "                       n_jobs=None, oob_score=False, random_state=0, verbose=0,\n",
              "                       warm_start=False)"
            ]
          },
          "metadata": {},
          "execution_count": 16
        }
      ]
    },
    {
      "cell_type": "markdown",
      "metadata": {
        "id": "w8UZU3ppXdVU"
      },
      "source": [
        "The sklearn.ensemble module contains the RandomForestClassifier class that can be used to train the machine learning model using the random forest algorithm. To do so, we need to call the fit method on the RandomForestClassifier class and pass it our training features and labels"
      ]
    },
    {
      "cell_type": "markdown",
      "metadata": {
        "id": "_wB8Zy6hXvv6"
      },
      "source": [
        "Making Predictions and Evaluating the Model"
      ]
    },
    {
      "cell_type": "code",
      "metadata": {
        "id": "fbhPWU_kXYcl"
      },
      "source": [
        "predictions = text_classifier.predict(X_test)"
      ],
      "execution_count": 17,
      "outputs": []
    },
    {
      "cell_type": "code",
      "metadata": {
        "colab": {
          "base_uri": "https://localhost:8080/"
        },
        "id": "xDKt90URXyvM",
        "outputId": "ef804e2d-c082-4753-e5e4-c380403f8032"
      },
      "source": [
        "from sklearn.metrics import classification_report, confusion_matrix, accuracy_score\n",
        "\n",
        "print(confusion_matrix(y_test,predictions))\n",
        "\n",
        "print(\"**********************************************************\")\n",
        "print(classification_report(y_test,predictions))\n",
        "print(\"**********************************************************\")\n",
        "print(accuracy_score(y_test, predictions))"
      ],
      "execution_count": 19,
      "outputs": [
        {
          "output_type": "stream",
          "name": "stdout",
          "text": [
            "[[1723  108   39]\n",
            " [ 326  248   40]\n",
            " [ 132   58  254]]\n",
            "**********************************************************\n",
            "              precision    recall  f1-score   support\n",
            "\n",
            "    negative       0.79      0.92      0.85      1870\n",
            "     neutral       0.60      0.40      0.48       614\n",
            "    positive       0.76      0.57      0.65       444\n",
            "\n",
            "    accuracy                           0.76      2928\n",
            "   macro avg       0.72      0.63      0.66      2928\n",
            "weighted avg       0.75      0.76      0.74      2928\n",
            "\n",
            "**********************************************************\n",
            "0.7599043715846995\n"
          ]
        }
      ]
    },
    {
      "cell_type": "markdown",
      "metadata": {
        "id": "1Ll9FuwpYe9S"
      },
      "source": [
        "you can see that our algorithm achieved an accuracy of 75.99"
      ]
    },
    {
      "cell_type": "markdown",
      "metadata": {
        "id": "mEmWE5XFYqNN"
      },
      "source": [
        "Conclusion:\n",
        "\n",
        "The sentiment analysis is one of the most commonly performed NLP tasks as it helps determine overall public opinion about a certain topic."
      ]
    },
    {
      "cell_type": "code",
      "metadata": {
        "id": "BH5QESIQX30s"
      },
      "source": [
        ""
      ],
      "execution_count": null,
      "outputs": []
    }
  ]
}